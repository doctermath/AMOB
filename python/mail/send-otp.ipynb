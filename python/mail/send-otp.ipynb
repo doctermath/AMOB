{
 "cells": [
  {
   "cell_type": "code",
   "execution_count": 15,
   "metadata": {},
   "outputs": [],
   "source": [
    "import smtplib\n",
    "import random\n",
    "import os\n",
    "from dotenv import load_dotenv\n",
    "from email.mime.text import MIMEText\n",
    "from email.mime.multipart import MIMEMultipart\n"
   ]
  },
  {
   "cell_type": "code",
   "execution_count": 19,
   "metadata": {},
   "outputs": [],
   "source": [
    "load_dotenv()\n",
    "\n",
    "# Email Credentials\n",
    "SMTP_SERVER = os.getenv('SMTP_SERVER')\n",
    "SMTP_PORT = os.getenv('SMTP_PORT')\n",
    "EMAIL_ADDRESS = os.getenv('EMAIL_ADDRESS')\n",
    "EMAIL_PASSWORD = os.getenv('EMAIL_PASSWORD')"
   ]
  },
  {
   "cell_type": "code",
   "execution_count": null,
   "metadata": {},
   "outputs": [
    {
     "name": "stdout",
     "output_type": "stream",
     "text": [
      "OTP sent to yordan99x@gmail.com: 117169\n"
     ]
    }
   ],
   "source": [
    "# Generate OTP\n",
    "otp = random.randint(100000, 999999)\n",
    "\n",
    "# Send OTP Email\n",
    "def send_otp(recipient_email, otp):\n",
    "    subject = \"Your OTP Code\"\n",
    "    body = f\"\"\"\n",
    "    <html>\n",
    "    <body>\n",
    "        <h2>Your OTP Code</h2>\n",
    "        <p>Your OTP code is: <strong>{otp}</strong></p>\n",
    "        <p>Please use this code to complete your verification process.</p>\n",
    "        <br>\n",
    "        <p>Thank you,</p>\n",
    "        <p>Altrak1978</p>\n",
    "    </body>\n",
    "    </html>\n",
    "    \"\"\"\n",
    "\n",
    "    msg = MIMEMultipart()\n",
    "    msg[\"From\"] = EMAIL_ADDRESS\n",
    "    msg[\"To\"] = recipient_email\n",
    "    msg[\"Subject\"] = subject\n",
    "    msg.attach(MIMEText(body, \"html\"))\n",
    "\n",
    "    with smtplib.SMTP_SSL(SMTP_SERVER, SMTP_PORT) as server:\n",
    "        server.login(EMAIL_ADDRESS, EMAIL_PASSWORD)\n",
    "        server.sendmail(EMAIL_ADDRESS, recipient_email, msg.as_string())\n",
    "\n",
    "    print(f\"OTP sent to {recipient_email}: {otp}\")\n",
    "\n",
    "# Example Usage\n",
    "send_otp(\"yordan99x@gmail.com\", otp)\n"
   ]
  }
 ],
 "metadata": {
  "kernelspec": {
   "display_name": "Python 3",
   "language": "python",
   "name": "python3"
  },
  "language_info": {
   "codemirror_mode": {
    "name": "ipython",
    "version": 3
   },
   "file_extension": ".py",
   "mimetype": "text/x-python",
   "name": "python",
   "nbconvert_exporter": "python",
   "pygments_lexer": "ipython3",
   "version": "3.10.6"
  }
 },
 "nbformat": 4,
 "nbformat_minor": 2
}
